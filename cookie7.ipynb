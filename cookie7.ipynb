{
 "cells": [
  {
   "cell_type": "code",
   "execution_count": 2,
   "id": "95abae38",
   "metadata": {},
   "outputs": [
    {
     "name": "stdout",
     "output_type": "stream",
     "text": [
      "504\n"
     ]
    }
   ],
   "source": [
    "# 주어진 무작위 길이의 문자열\n",
    "text1 = \"n라pc'r마sdebq자다lg다나dj카s다uzxqk타하\\n아u자up아am하라gmewf\\nx가가o다카\\ts다가\\n바q타다q하'lb opgdiy마하v타하wcukwng나o나사zxtzwkuee마yj하povtzspnvtlvn카aqctivr\\t\\tc가v다mmf\\npl'nex차hk라y아f가\\tr라ch가decu라'바e아zy마자bjve\\n나y타ptygcbhjqm마하j\\nv다w x\\n ih'w차cg가clo카차나gksepodv아uybszak가c바xo아p\\nvy\\tkg\\n라사vppp카자b라마'가라k나마라가다ree나w가s'n하abusq\\t\\n타'i라 sl다edj아나t타px바타'\\n타c사라d차마l차\\n다bf라u바l하\\nz타아라하라아바\\nb\\tqk 다\\t하dffmzwhh바k oe타vy아 마karcegjmgfdinp나g자c카ct자s차카myx차자카바w\\t fyd카anc마k차sfl사차d마타nr다다하yfgpfpxzgey아타h다aw'라 cdti g라\\nbt가하사자\\ngpa차카\\n마ctpprvrklupn타pf하k마a'\\n차자'나카og타라g바w '바lyy하ve카tz나'dns다라gosf자o마pdztzcvdt바nej마\\t마zyd나타d\\nd\\t\\tcoj가b카xb라아kkw'afytotbv\\t타d차f사ifqt하il차n 다x 바마다qpntndq카toi가hssl카uug라gfl yzrc바lf하카자l다gte타ton가t\\nw라ly카p'im아d\\t자카e자타wqc\\nskmmpsc카qwpcu'b차가e아khyp타wllrlg'라바사사rh자li타nlqu다u하ulohbf타va타나s라z마s\\nldle사h라majmep사카irkwnp차d차f자w하\\n'my차사사k라m차gsdai가holccyuhdb타사o타l차m사r아rddosxeudsumdoir'카 r하v 라dw라ej나fggvvzj'b\\ndihz타가hyfvw\\n\\n마wdh'b사k가f바j차아r타e차hkdrxqa'하카카r카차아luq자k자evdv자나f타\\n ouo다y바자rnt차'g자af마hn나qm하 '가c다aq하마사아ie사ltqynza차kgyfhjkgs'하마차  나 zimwlt사라타q가다kaj자 zgjeu라pm자qgu라f아 xx아k차나g자차b나nx나n마uk바nrvp사자riyvrj qhndl아마'uwg사사f사하아yu바가pk 바cow라tkscix다zv나awnl\\nadnlr라ap타lmbuu타dpzizjsvinx\\nc나마차o아g\\tcrc자사p자m다lntdrg자가r하aw마mb가yap나ti아사dvwxtl바woqeu다하카라w아다아sqc하카r차\\n'바pftkaw자bt 마vnkk마타'다xkjffp차타\\n\\n라g마ld'\\n\\t차qh사nw가nc\\tb'자xhz다hmr나자\\noy사bwk하qe사  ot아타ofyvxwkisj나xi차k자라bhwkx사하vanvk\\tp사d차sr\\t나sz사gm\\t사b자바jh나nu자sio\\np나h라jv바 다m바bw다f다마마다ucfc바rnwfd카xfq dv\\n x'ccrdcu가zn\\tz\\n차 카바\\ti하자카sw마dh'카다l'i아c\\nxbpyle바마마\\n아qmsm가v카mkr아하가 c'qvbc\\tfab라나가xl다'마dlzc아 아하나하x자wvz나l나s\\nn타r가\\n자마나자dt바qr\\t하i가raf\\trhiqqrma바타nti자w'q나q라d차\\ndi다junp마다자sjrhrau다'하chcq나ta하\"\n",
    "text2 = \"자t마\\t아olnyh'사o나hkv가la\\nu사d나나나yr가h'k나q\\nlos\\nf\\n\\nmb나jsy사타xb아epkpz하cbuopiu다n ijz타gsg바lzp사카qigo나n다cwuuiy카카p\\n가하rs\\nipftfmazsv가hp자qs'k라ngts하pjofjf가rrwwemv나\\nx타su타바s\\t다마바나l가a a아w타fb마카카\\tq카zaybmdon아나chej하\\t사\\tp'vk나\\n나i차다카lpkr\\nxql\\nqy나itdzxk라c자'라c마마cc카jt\\t자가s다u'tm카wp다h하f사'tku하o사zhbpo나dwib나카하dt자ek'a사hsfror 마다바자카카r'aevp\\tgee아b vo자us사d다j마h차자e아wuh마ts\\nt바agbtr아ma사다b가wz가바j아다하 uj카아l카 카사khrbs\\tnd사'yd다나가bvdlidi마마dvm아\\t'wrnzf\\t타r'c하 g바a바l바ytye\\nhc다d타duc e사rwuv바 \\n나 i마as마마나x가bfon차사pd마pz타타차차dc사pvb자'차r다dws'타ckr카라z \\t마lks\\trlrm가ie카\\to나yjt나라fu자u자자\\taiti타w바\\no가타qdpylx\\n don\\njeswyay\\n라마pyg카p'cccsg카mv바아vpth타차\\tk't라oixfhp카r다q바\\tx사a바자wz바l hki카dl자wo'아kvrj아zba hs가하qlu나나xv \\t'타b차r하acu\\tl카rfoj아'th'b사나아t가rby자마pgtckpfqd가아llfcrieto아yhh's가axvp하mvqjc카lwzq하gq가hukiewu마o xybx나jx차xia타마v가f\\tjrc차m\\to카mp다ap사uk마f마zl나카p카바ixavc'q' ea마마qzgmps라카cysafw\\nisi타n\\twe\\n\\tw z나widk a하마x카ulu차v\\tmq카자자lgci 아'c마사\\nido사타다라v나'다oqwleza아w타사\\ni\\nolh카\\n bmsuh'l\\teou아'바다가가ndhub하i카y차나가h차zr라th\\t자바myc가다r라q자다a아k바하나ox자a하zlhexa\\tyx  라uu타fkvsxq라fsjr하rkz마aw마\\t타사차라'k다라x바pnpg사d다자r다lz자il나qa바\\td바c다h라\\td자\\th아c사k ps'eepiun사자ylqsuqr나b카하ghqd사jf자t마다cyrdjcdfadqp가q아차dddt마lanmgh바u라자라qot\\t tegygicmverp카나차\\t\\nt자아타jw라사ra사'\\t마xtqy바마'y타pk나ugob\\n하vo klgr하n마\\tj하가rhpo마iwpuuk다fm가하cy가r아cpdrytsbqjrqjvxuclc자plu자s카\\tx가kzt다gjibzz나바바가hamagxnehm아nf차j차나타\\tg자ubj\\tpbjakeo'oik바마자'차\\n나사\\t차n사iy타가바kw라s'rkf라y사sjz아\\ta타n라'y바h아zlbpoi아vn사차hw하카q\\tjrboxr'weo사가zfa라rxlc사\\npaa j차자\\t하jsxv라rvp차jaancao'ogvn e타v타ulr차라pdq자y'dwone아자자\\t\\n바xr라t타아\\nt하ptzckd가나cw\\n바\\naxeavqh나아ef자아\\t차t다f마바사cd aq라g나바자igx 사ea가pd아fy자vai바twqntjric\\nxcs자라vp아타 'kar나\\traq\\tn자i사g마yrgrspu나wcl자차마u차'negb카차hli아v차abzxv가r가y자hs사m나kvkagjivm라사n다y가다아u자qpfsatyfn w 사sf카아다dkf\\tzx라wkjhfbel xwq차라e아p타ryxoe아u나n'hx타i\\n사 eez mngoyz하klir아toa자차가hj사나y마타mhzpb차차q사\\t나mix\\nri가r k카z타ez 마rs카타hu나p'k 다q하pwyr마 im아ty라h바s사yn다q 가나cmaj카v자sdrxlpjs카ih하oag차\\tta타w바ge차\\t\\t\\tfhatm가차자\\t\\n하마urw하rk t자smi하바x마차z라나ihj자uv자rr마 h자b하zif타\\nc차forb바pc'm나bwu사wgl\\tw라라d카자x사아kxu 'ppi아'hzq자u\\t가아하thznrw\\na다x카zzsp\\njazjiao사z자타s나m다o'ire 사마다kl하타vp하phqg하\\ngzu마e라m다w타차bn다up마ti바iptyciafn라sn나kcud차vusa마vgjiq나tu아다tq가사eegs다xgu마ox바rlepr가카dg'차u차u사idpjge\\tvg다마x \\tisbtw바마카aj바자bsy\\t '사a\"\n",
    "\n",
    "# 표현식 작성\n",
    "result = abs(len(text1)-len(text2))\n",
    "\n",
    "\n",
    "# 출력된 결과를 퀴즈 답란에 그대로 입력하세요\n",
    "print(result)"
   ]
  },
  {
   "cell_type": "code",
   "execution_count": 35,
   "id": "525fa317",
   "metadata": {},
   "outputs": [
    {
     "name": "stdout",
     "output_type": "stream",
     "text": [
      "wrong\n"
     ]
    }
   ],
   "source": [
    "guess = int(input(\"정수를 입력하세요: \"))\n",
    "correct = 8\n",
    "\n",
    "if guess < 1 or guess > 100:\n",
    "    print(\"wrong\")\n",
    "elif guess == correct:\n",
    "    print(\"correct\")\n",
    "elif guess < correct:\n",
    "    print(\"low\")\n",
    "elif guess > correct:\n",
    "    print(\"high\")"
   ]
  },
  {
   "cell_type": "code",
   "execution_count": 33,
   "id": "718d8564",
   "metadata": {},
   "outputs": [
    {
     "name": "stdout",
     "output_type": "stream",
     "text": [
      "wrong\n",
      "low\n"
     ]
    }
   ],
   "source": [
    "guess = int(input(\"정수를 입력하세요: \"))\n",
    "correct = 8\n",
    "\n",
    "if guess < 1 or guess > 100:\n",
    "    print(\"wrong\")\n",
    "if guess == correct:\n",
    "    print(\"correct\")\n",
    "elif guess < correct:\n",
    "    print(\"low\")\n",
    "else:\n",
    "    print(\"high\")"
   ]
  },
  {
   "cell_type": "code",
   "execution_count": 45,
   "id": "2ea3a26e",
   "metadata": {},
   "outputs": [
    {
     "name": "stdout",
     "output_type": "stream",
     "text": [
      "wrong\n",
      "low\n"
     ]
    }
   ],
   "source": [
    "guess = int(input(\"정수를 입력하세요: \"))\n",
    "correct = 8\n",
    "\n",
    "if guess < 1 or guess > 100:\n",
    "    print(\"wrong\")\n",
    "if guess == correct:\n",
    "    print(\"correct\")\n",
    "if guess < correct:\n",
    "    print(\"low\")\n",
    "if guess > correct:\n",
    "    print(\"high\")"
   ]
  },
  {
   "cell_type": "code",
   "execution_count": 44,
   "id": "ad571884",
   "metadata": {},
   "outputs": [
    {
     "name": "stdout",
     "output_type": "stream",
     "text": [
      "low\n"
     ]
    }
   ],
   "source": [
    "guess = int(input(\"정수를 입력하세요: \"))\n",
    "correct = 8\n",
    "\n",
    "if guess == correct: \n",
    "    print(\"correct\")\n",
    "elif guess < 1 or guess > 100:\n",
    "    print(\"wrong\")\n",
    "elif guess < correct:\n",
    "    print(\"low\")\n",
    "else:\n",
    "    print(\"high\")"
   ]
  },
  {
   "cell_type": "code",
   "execution_count": 39,
   "id": "4bf122f7",
   "metadata": {},
   "outputs": [
    {
     "name": "stdout",
     "output_type": "stream",
     "text": [
      "high\n"
     ]
    }
   ],
   "source": [
    "guess = int(input(\"정수를 입력하세요: \"))\n",
    "correct = 8\n",
    "\n",
    "if guess == correct: \n",
    "    print(\"correct\")\n",
    "else:\n",
    "    if guess >= 1 and guess <= 100:\n",
    "        print(\"wrong\")\n",
    "    elif guess < correct:\n",
    "        print(\"low\")\n",
    "    else:\n",
    "        print(\"high\")"
   ]
  },
  {
   "cell_type": "code",
   "execution_count": 48,
   "id": "b155a059",
   "metadata": {},
   "outputs": [
    {
     "name": "stdout",
     "output_type": "stream",
     "text": [
      "correct\n",
      "high\n"
     ]
    }
   ],
   "source": [
    "guess = int(input(\"정수를 입력하세요: \"))\n",
    "correct = 8\n",
    "\n",
    "if guess == correct: \n",
    "    print(\"correct\")\n",
    "if guess < correct:\n",
    "    print(\"low\")\n",
    "else:\n",
    "    print(\"high\")"
   ]
  }
 ],
 "metadata": {
  "kernelspec": {
   "display_name": "Python 3",
   "language": "python",
   "name": "python3"
  },
  "language_info": {
   "codemirror_mode": {
    "name": "ipython",
    "version": 3
   },
   "file_extension": ".py",
   "mimetype": "text/x-python",
   "name": "python",
   "nbconvert_exporter": "python",
   "pygments_lexer": "ipython3",
   "version": "3.12.3"
  }
 },
 "nbformat": 4,
 "nbformat_minor": 5
}
